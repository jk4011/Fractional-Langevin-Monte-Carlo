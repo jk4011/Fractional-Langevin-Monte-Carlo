{
  "nbformat": 4,
  "nbformat_minor": 0,
  "metadata": {
    "colab": {
      "name": "FLMC.ipynb",
      "private_outputs": true,
      "provenance": [],
      "collapsed_sections": []
    },
    "kernelspec": {
      "name": "python3",
      "display_name": "Python 3"
    },
    "language_info": {
      "name": "python"
    }
  },
  "cells": [
    {
      "cell_type": "code",
      "execution_count": null,
      "metadata": {
        "id": "CJ3CQwRkA__B"
      },
      "outputs": [],
      "source": [
        "%matplotlib inline\n",
        "import numpy as np\n",
        "import torch\n",
        "import scipy\n",
        "import matplotlib.pyplot as plt\n",
        "import tqdm.notebook as tqdm\n",
        "\n",
        "from scipy.stats import levy_stable\n",
        "from scipy.special import gamma as gamma_func"
      ]
    },
    {
      "cell_type": "code",
      "source": [
        "class Fractional_Langevin_MonteCarlo():\n",
        "    def __init__(self, m=None):\n",
        "        self.m = m\n",
        "\n",
        "    def phi(self, U):\n",
        "        # unnormalized target density : exp(-U(X))\n",
        "        return torch.exp(-U)\n",
        "\n",
        "    def drift_hat(self, x, alpha, U):\n",
        "        # simplified multidimensional drift\n",
        "        # approximate fractional derivative by using only the first term of centered difference operator\n",
        "\n",
        "        x.requires_grad_()\n",
        "        u = U(x)\n",
        "        grad = torch.autograd.grad(u, x)[0]\n",
        "        \n",
        "        def c_alpha(alpha):\n",
        "            return gamma_func(alpha-1) / gamma_func(alpha/2)**2\n",
        "\n",
        "        return -c_alpha(alpha) * grad\n",
        "    \n",
        "    def FLA(self, U, alpha, N, a_eta, b_eta, step_size, dim):\n",
        "        # Fractional Langevin Algorithm(FLA)\n",
        "        # when alpha = 2, FLA is same as ULA\n",
        "        burn_in = 5000\n",
        "        x_0 = torch.randn(1, dim).double()\n",
        "\n",
        "        Levy_motions = levy_stable.rvs(alpha, 0, size=dim * (N + burn_in))\n",
        "        Levy_motions = torch.from_numpy(Levy_motions.reshape((Levy_motions.shape[0] // dim, dim)))\n",
        "\n",
        "        x_i = x_0\n",
        "        samples = []\n",
        "\n",
        "        for i in tqdm.tqdm(range(N + burn_in)):\n",
        "            #step_size = (a_eta/(i+1))**b_eta\n",
        "            step_size = step_size\n",
        "            b = self.drift_hat(x_i, alpha, U)\n",
        "            x_i = x_i.detach() + step_size * b + step_size ** (1./alpha) * Levy_motions[i]\n",
        "\n",
        "            if dim > 1:\n",
        "                samples.append(x_i.detach().numpy())\n",
        "            else:\n",
        "                samples.append(x_i.detach().numpy().squeeze())\n",
        "\n",
        "        if dim > 1:\n",
        "            return np.concatenate(samples, 0)[burn_in:]\n",
        "        else:\n",
        "            return samples[burn_in:]"
      ],
      "metadata": {
        "id": "ZNZzOb44BBwq"
      },
      "execution_count": null,
      "outputs": []
    },
    {
      "cell_type": "markdown",
      "source": [
        "## Experiment from paper"
      ],
      "metadata": {
        "id": "Q1VbPQ4G-W-H"
      }
    },
    {
      "cell_type": "code",
      "source": [
        "FLMC = Fractional_Langevin_MonteCarlo()"
      ],
      "metadata": {
        "id": "zCe8AQUJTya8"
      },
      "execution_count": null,
      "outputs": []
    },
    {
      "cell_type": "code",
      "source": [
        "# Section 4. Experiment with double-well potential\n",
        "def double_well_potential(x):\n",
        "    u = (x+5)*(x+1) * (x-1.02) * (x-5) / 10 + 0.5\n",
        "    return u\n",
        "\n",
        "def double_well_density_np(x):\n",
        "    u = double_well_potential(x)\n",
        "    return np.exp(-u)\n",
        "\n",
        "def double_well_density(x):\n",
        "    u = double_well_potential(x)\n",
        "    return torch.exp(-u)"
      ],
      "metadata": {
        "id": "n5alaj3hNk5l"
      },
      "execution_count": null,
      "outputs": []
    },
    {
      "cell_type": "code",
      "source": [
        "# Visualize Figure 2 (top) in paper\n",
        "x = np.linspace(-6, 6, 1000)\n",
        "y = double_well_density_np(x)\n",
        "\n",
        "plt.figure(figsize = (10,2))\n",
        "plt.plot(x, y)\n",
        "plt.title('Figure 2 (Top)')\n",
        "plt.show()"
      ],
      "metadata": {
        "id": "Yo-bX0a5PTOb"
      },
      "execution_count": null,
      "outputs": []
    },
    {
      "cell_type": "code",
      "source": [
        "# Visualize Figure 2 (middle) in paper\n",
        "# empirical distribution obtained via ULA (corresponds to FLA with alpha = 2)\n",
        "samples = FLMC.FLA(U=double_well_potential, alpha=2, N=10000, a_eta=1e-7, b_eta=1, step_size=0.01, dim=1)\n",
        "\n",
        "plt.figure(figsize = (10,2))\n",
        "plt.hist(samples, bins=200, density=True)\n",
        "plt.gca().set_aspect('equal', adjustable='box')\n",
        "plt.title('Figure 2 (Middle)')\n",
        "plt.show()\n",
        "\n",
        "samples = FLMC.FLA(U=double_well_potential, alpha=1.7, N=10000, a_eta=1e-7, b_eta=1, step_size=0.01, dim=1)\n",
        "\n",
        "plt.figure(figsize = (10,2))\n",
        "plt.hist(samples, bins=200, density=True)\n",
        "plt.gca().set_aspect('equal', adjustable='box')\n",
        "plt.title('Figure 2 (Middle)')\n",
        "plt.show()\n"
      ],
      "metadata": {
        "id": "6VrSxdSuPOP8"
      },
      "execution_count": null,
      "outputs": []
    },
    {
      "cell_type": "markdown",
      "source": [
        "## Multi-dimentional Case"
      ],
      "metadata": {
        "id": "aQMC_wJf-gtP"
      }
    },
    {
      "cell_type": "code",
      "source": [
        "def density1_np(z):\n",
        "    z1, z2 = z[:, 0], z[:, 1]\n",
        "    norm = np.sqrt(z1 ** 2 + z2 ** 2)\n",
        "    exp1 = np.exp(-0.5 * ((z1 - 2) / 0.6) ** 2)\n",
        "    exp2 = np.exp(-0.5 * ((z1 + 2) / 0.6) ** 2)\n",
        "    u = 0.5 * ((norm - 2) / 0.4) ** 2 - np.log(exp1 + exp2)\n",
        "    return np.exp(-u)\n",
        "\n",
        "def potential1(z):\n",
        "    z = z.view(-1, 2).double()\n",
        "    z1, z2 = z[:, 0], z[:, 1]\n",
        "    norm = torch.norm(z, p=2, dim=1)\n",
        "    exp1 = torch.exp(-0.5 * ((z1 - 2) / 0.6) ** 2)\n",
        "    exp2 = torch.exp(-0.5 * ((z1 + 2) / 0.6) ** 2)\n",
        "    u = 0.5 * ((norm - 2) / 0.4) ** 2 - torch.log(exp1 + exp2)\n",
        "    return u\n"
      ],
      "metadata": {
        "id": "ZrwOeYEauWgJ"
      },
      "execution_count": null,
      "outputs": []
    },
    {
      "cell_type": "code",
      "source": [
        "r = np.linspace(-5, 5, 1000)\n",
        "x, y = np.meshgrid(r, r)\n",
        "z = np.vstack([x.flatten(), y.flatten()]).T\n",
        "\n",
        "q0 = density1_np(z)\n",
        "plt.pcolormesh(x, y, q0.reshape(x.shape),\n",
        "                           cmap='viridis')\n",
        "plt.gca().set_aspect('equal', adjustable='box')\n",
        "plt.xlim([-3, 3])\n",
        "plt.ylim([-3, 3])\n",
        "plt.title('Density #1')\n",
        "plt.show()"
      ],
      "metadata": {
        "id": "VIcK0TEPuVZj"
      },
      "execution_count": null,
      "outputs": []
    },
    {
      "cell_type": "code",
      "source": [
        "samples1 = FLMC.FLA(potential1, alpha=1.7, N =10000, a_eta=1e-7, b_eta=0.6, step_size=0.03, dim=2)\n",
        "\n",
        "indices = ~np.logical_or(np.isnan(samples1)[:, 0], np.isnan(samples1)[:, 1])\n",
        "samples1 = samples1[indices]\n",
        "\n",
        "plt.hist2d(samples1[:,0], samples1[:,1], cmap='viridis', rasterized=False, bins=200, density=True)\n",
        "plt.gca().set_aspect('equal', adjustable='box')\n",
        "# plt.xlim([-3.5, 3.5])\n",
        "# plt.ylim([-3.5, 3.5])\n",
        "plt.title('Empirical Density #1')\n",
        "plt.show()"
      ],
      "metadata": {
        "id": "P7z5bNhUv0C-"
      },
      "execution_count": null,
      "outputs": []
    },
    {
      "cell_type": "code",
      "source": [
        "def density2_np(z):\n",
        "    x, y = z[:, 0], z[:, 1]\n",
        "    u = 0.8 * x ** 2 + (y - ((x**2)**(1/3)))**2\n",
        "    u = u / 2**2\n",
        "    return np.exp(-u)\n",
        "\n",
        "\n",
        "def potential2(z):\n",
        "    z = z.view(-1, 2).double()\n",
        "    x, y = z[:, 0], z[:, 1]\n",
        "    u = 0.8 * x ** 2 + (y - ((x**2)**(1/3)))**2\n",
        "    u = u / 2**2\n",
        "    return u"
      ],
      "metadata": {
        "id": "RAzjOo6hz4w0"
      },
      "execution_count": null,
      "outputs": []
    },
    {
      "cell_type": "code",
      "source": [
        "r = np.linspace(-5, 5, 1000)\n",
        "x, y = np.meshgrid(r, r)\n",
        "z = np.vstack([x.flatten(), y.flatten()]).T\n",
        "\n",
        "q0 = density2_np(z)\n",
        "plt.pcolormesh(x, y, q0.reshape(x.shape),\n",
        "                           cmap='viridis')\n",
        "plt.gca().set_aspect('equal', adjustable='box')\n",
        "plt.xlim([-3.5, 3.5])\n",
        "plt.ylim([-3.5, 3.5])\n",
        "plt.title('Density #2')\n",
        "plt.show()"
      ],
      "metadata": {
        "id": "t4MdAttquV5e"
      },
      "execution_count": null,
      "outputs": []
    },
    {
      "cell_type": "code",
      "source": [
        "samples2 = FLMC.FLA(potential2, alpha=1.7, N =10000, a_eta=1e-7, b_eta=0.6, step_size=0.03, dim=2)\n",
        "\n",
        "indices = ~np.logical_or(np.isnan(samples2)[:, 0], np.isnan(samples2)[:, 1])\n",
        "samples22 = samples2[indices]\n",
        "\n",
        "plt.hist2d(samples2[:,0], samples2[:,1], cmap='viridis', rasterized=False, bins=200, density=True)\n",
        "plt.gca().set_aspect('equal', adjustable='box')\n",
        "plt.title('Empirical Density #2')\n",
        "plt.show()"
      ],
      "metadata": {
        "id": "ZA84yNxpz08I"
      },
      "execution_count": null,
      "outputs": []
    },
    {
      "cell_type": "code",
      "source": [
        ""
      ],
      "metadata": {
        "id": "MLB8fdssB32v"
      },
      "execution_count": null,
      "outputs": []
    }
  ]
}